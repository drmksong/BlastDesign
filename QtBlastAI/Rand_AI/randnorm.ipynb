{
 "cells": [
  {
   "cell_type": "code",
   "execution_count": null,
   "source": [
    "import torch\r\n",
    "import torch.nn as nn\r\n",
    "import torch.optim as optim\r\n",
    "import numpy as np\r\n",
    "import pandas as pd"
   ],
   "outputs": [],
   "metadata": {}
  },
  {
   "cell_type": "code",
   "execution_count": null,
   "source": [
    "class GenRand(nn.Module):\r\n",
    "  def __init__(self, input_size=2, hidden_size=100, output_size=30):\r\n",
    "    super().__init__()\r\n",
    "    self.lay_num = 3\r\n",
    "    self.hidden_size = hidden_size\r\n",
    "    self.rnn = nn.RNN(input_size = input_size, hidden_size=hidden_size, dropout = 0.3)\r\n",
    "    self.W = nn.Parameter(torch.randn([hidden_size, input_size]).type(torch.float))\r\n",
    "    self.b = nn.Parameter(torch.randn([input_size]).type(torch.float))\r\n",
    "\r\n",
    "  def forward(self, hidden, X):\r\n",
    "    X = X.transpose(0,1)\r\n",
    "    Y,hidden = self.rnn(X,hidden)\r\n",
    "    Y = Y[-1]\r\n",
    "    model = torch.mm(Y,self.W) + self.b\r\n",
    "    return model\r\n",
    "\r\n"
   ],
   "outputs": [],
   "metadata": {}
  },
  {
   "cell_type": "code",
   "execution_count": null,
   "source": [
    "def train(self):\r\n",
    "  pass"
   ],
   "outputs": [],
   "metadata": {}
  }
 ],
 "metadata": {
  "orig_nbformat": 4,
  "language_info": {
   "name": "python"
  }
 },
 "nbformat": 4,
 "nbformat_minor": 2
}