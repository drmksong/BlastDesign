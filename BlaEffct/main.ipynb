{
 "cells": [
  {
   "cell_type": "code",
   "execution_count": 288,
   "metadata": {},
   "outputs": [],
   "source": [
    "import math\n",
    "import numpy as np\n",
    "import pandas as pd\n",
    "import matplotlib.pyplot as plt"
   ]
  },
  {
   "cell_type": "code",
   "execution_count": 289,
   "metadata": {},
   "outputs": [],
   "source": [
    "align = pd.read_csv('alignment.csv')\n",
    "blacla = pd.read_csv('blastclass.csv')\n",
    "blaptn = pd.read_csv('blastpattern.csv')\n",
    "obstr = pd.read_csv('obstruction.csv')\n",
    "ppvkn = pd.read_csv('ppv.csv')\n",
    "rockcla = pd.read_csv('rockclass.csv')\n",
    "eqn_no = 1\n"
   ]
  },
  {
   "cell_type": "code",
   "execution_count": 290,
   "metadata": {},
   "outputs": [
    {
     "name": "stdout",
     "output_type": "stream",
     "text": [
      "   sta  class\n",
      "0   10      7\n",
      "1   20      5\n",
      "2   30      3\n",
      "3   40      3\n",
      "4   50      2\n",
      "5   60      1\n",
      "6   70      3\n",
      "7   80      4\n",
      "8   90      5\n",
      "9  100      6 \n",
      "\n",
      "\n"
     ]
    }
   ],
   "source": [
    "# print(align,'\\n\\n')\n",
    "print(blacla,'\\n\\n')\n",
    "# print(blaptn,'\\n\\n')\n",
    "# print(obs,'\\n\\n')\n",
    "# print(ppv,'\\n\\n')\n",
    "# print(rockcla,'\\n\\n')"
   ]
  },
  {
   "cell_type": "code",
   "execution_count": 291,
   "metadata": {},
   "outputs": [],
   "source": [
    "def ppv(K,n,weight=1,distance=1): \n",
    "    sd = distance/math.sqrt(weight)\n",
    "    v = K*math.pow(sd,n)\n",
    "    return v"
   ]
  },
  {
   "cell_type": "code",
   "execution_count": 292,
   "metadata": {},
   "outputs": [
    {
     "name": "stdout",
     "output_type": "stream",
     "text": [
      "K = 140, n = -1.2, W = 2.5\n",
      "ppv of K =140 n =-1.2 W =2.5 & d =1 = 242.60069510430122\n",
      "ppv of K =140 n =-1.2 W =2.5 & d =2 = 105.59808588954034\n",
      "ppv of K =140 n =-1.2 W =2.5 & d =3 = 64.91522029071477\n",
      "ppv of K =140 n =-1.2 W =2.5 & d =4 = 45.96423657706593\n",
      "ppv of K =140 n =-1.2 W =2.5 & d =5 = 35.16641004113413\n",
      "ppv of K =140 n =-1.2 W =2.5 & d =6 = 28.25599079528687\n",
      "ppv of K =140 n =-1.2 W =2.5 & d =7 = 23.484125514459596\n",
      "ppv of K =140 n =-1.2 W =2.5 & d =8 = 20.00709602182053\n",
      "ppv of K =140 n =-1.2 W =2.5 & d =9 = 17.3700484393926\n"
     ]
    }
   ],
   "source": [
    "K = ppvkn['K'][eqn_no]\n",
    "n = ppvkn['n'][eqn_no]\n",
    "W = blaptn['exp_weight'][0]\n",
    "\n",
    "print(f'K = {K}, n = {n}, W = {W}')\n",
    "for d in range(1,10):\n",
    "    print(f'ppv of K ={K} n ={n} W ={W} & d ={d} = {ppv(K,n,W,d)}')"
   ]
  },
  {
   "cell_type": "code",
   "execution_count": 293,
   "metadata": {},
   "outputs": [
    {
     "name": "stdout",
     "output_type": "stream",
     "text": [
      "[[  0.    0.   10.  -10. ]\n",
      " [ 10.   10.    8.  -20. ]\n",
      " [ 20.   20.    6.  -30. ]\n",
      " [ 30.   30.    4.  -40.5]\n",
      " [ 40.   40.    4.  -50. ]\n",
      " [ 50.   50.    2.  -69.5]\n",
      " [ 60.   60.    2.  -69.5]\n",
      " [ 70.   70.    4.  -59.5]\n",
      " [ 80.   80.    6.  -59.5]\n",
      " [ 90.   90.    8.  -40. ]\n",
      " [100.  100.   10.  -20. ]]\n",
      "(3.5, 9.3, -13.5)\n"
     ]
    }
   ],
   "source": [
    "algn = np.array(align)\n",
    "print(algn)\n",
    "\n",
    "class Align:\n",
    "    def __init__(self,align):\n",
    "        self.align = align\n",
    "        self.Sta = align['sta']\n",
    "        self.X = align['x']\n",
    "        self.Y = align['y']\n",
    "        self.Z = align['z']\n",
    "    \n",
    "    def get(self,sta):\n",
    "        index = self.ind(sta)\n",
    "\n",
    "        t = (sta - self.Sta[index])/(self.Sta[index+1] - self.Sta[index])\n",
    "        x = self.X[index] + t*(self.X[index+1] - self.X[index])\n",
    "        y = self.Y[index] + t*(self.Y[index+1] - self.Y[index])\n",
    "        z = self.Z[index] + t*(self.Z[index+1] - self.Z[index])\n",
    "        return (x,y,z)\n",
    "\n",
    "    def ind(self,sta):\n",
    "        if sta < self.Sta[0]:\n",
    "            return self.Sta[0]\n",
    "        elif sta > self.Sta[len(self.Sta)-1]:\n",
    "            return self.Sta[len(self.Sta)-1]\n",
    "        index = self.Sta[0]\n",
    "        for i in range(len(self.Sta)-1):\n",
    "            if self.Sta[i] <= sta and sta < self.Sta[i+1]:\n",
    "                index = i\n",
    "                break\n",
    "        return index\n",
    "\n",
    "    \n",
    "    \n",
    "\n",
    "\n",
    "algn = Align(align)\n",
    "print(algn.get(3.5))\n"
   ]
  },
  {
   "cell_type": "code",
   "execution_count": 294,
   "metadata": {},
   "outputs": [
    {
     "name": "stdout",
     "output_type": "stream",
     "text": [
      "K = 200, n = -1.6, W = 1.0\n",
      "1    5\n",
      "Name: class, dtype: int64\n",
      "cla = 5\n",
      "K = 200, n = -1.6, W = 0.5\n",
      "[1.  0.5]\n",
      "[(30.0, 10.0, 1.0), (50.0, 5.0, 1.0)]\n",
      "i = 0, sta = 0\n",
      "sta = 0,W = 0.1\n",
      "op = (30.0, 10.0, 1.0),apos = (0.0, 10.0, -10.0) dis = 31.953090617340916 pvel = 0.12411075055275028 alw = 1.0 OK\n",
      "op = (50.0, 5.0, 1.0),apos = (0.0, 10.0, -10.0) dis = 51.43928459844674 pvel = 0.05793728285465125 alw = 0.5 OK\n",
      "i = 1, sta = 10\n",
      "sta = 10,W = 0.5\n",
      "op = (30.0, 10.0, 1.0),apos = (10.0, 8.0, -20.0) dis = 29.068883707497267 pvel = 0.5232637291457816 alw = 1.0 OK\n",
      "op = (50.0, 5.0, 1.0),apos = (10.0, 8.0, -20.0) dis = 45.27692569068709 pvel = 0.2575152246927217 alw = 0.5 OK\n",
      "i = 2, sta = 20\n",
      "sta = 20,W = 0.8\n",
      "op = (30.0, 10.0, 1.0),apos = (20.0, 6.0, -30.0) dis = 32.817678162843876 pvel = 0.6276671830888257 alw = 1.0 OK\n",
      "op = (50.0, 5.0, 1.0),apos = (20.0, 6.0, -30.0) dis = 43.15089802078283 pvel = 0.40505896058795077 alw = 0.5 OK\n",
      "i = 3, sta = 30\n",
      "sta = 30,W = 0.8\n",
      "op = (30.0, 10.0, 1.0),apos = (30.0, 4.0, -40.5) dis = 41.93149174546501 pvel = 0.4240699357039082 alw = 1.0 OK\n",
      "op = (50.0, 5.0, 1.0),apos = (30.0, 4.0, -40.5) dis = 46.07873696185693 pvel = 0.36467087495773576 alw = 0.5 OK\n",
      "i = 4, sta = 40\n",
      "sta = 40,W = 1.0\n",
      "op = (30.0, 10.0, 1.0),apos = (40.0, 4.0, -50.0) dis = 52.316345438113316 pvel = 0.3558034523675948 alw = 1.0 OK\n",
      "op = (50.0, 5.0, 1.0),apos = (40.0, 4.0, -50.0) dis = 51.980765673468106 pvel = 0.3594857833333991 alw = 0.5 OK\n",
      "i = 5, sta = 50\n",
      "sta = 50,W = 2.5\n",
      "op = (30.0, 10.0, 1.0),apos = (50.0, 2.0, -69.5) dis = 73.7173656610164 pvel = 0.4278290905072601 alw = 1.0 OK\n",
      "op = (50.0, 5.0, 1.0),apos = (50.0, 2.0, -69.5) dis = 70.56380091803446 pvel = 0.45882899742518196 alw = 0.5 OK\n",
      "i = 6, sta = 60\n",
      "sta = 60,W = 0.8\n",
      "op = (30.0, 10.0, 1.0),apos = (60.0, 2.0, -69.5) dis = 77.03408336574142 pvel = 0.16025416088584335 alw = 1.0 OK\n",
      "op = (50.0, 5.0, 1.0),apos = (60.0, 2.0, -69.5) dis = 71.26885715373862 pvel = 0.18149401736342044 alw = 0.5 OK\n",
      "i = 7, sta = 70\n",
      "sta = 70,W = 0.7\n",
      "op = (30.0, 10.0, 1.0),apos = (70.0, 4.0, -59.5) dis = 72.77533922971435 pvel = 0.1577370251867915 alw = 1.0 OK\n",
      "op = (50.0, 5.0, 1.0),apos = (70.0, 4.0, -59.5) dis = 63.72793735874401 pvel = 0.19506558216039827 alw = 0.5 OK\n",
      "i = 8, sta = 80\n",
      "sta = 80,W = 0.5\n",
      "op = (30.0, 10.0, 1.0),apos = (80.0, 6.0, -59.5) dis = 78.58912138457842 pvel = 0.10656782585791566 alw = 1.0 OK\n",
      "op = (50.0, 5.0, 1.0),apos = (80.0, 6.0, -59.5) dis = 67.53702688155587 pvel = 0.13581223555499108 alw = 0.5 OK\n",
      "i = 9, sta = 90\n",
      "sta = 90,W = 0.3\n",
      "op = (30.0, 10.0, 1.0),apos = (90.0, 8.0, -40.0) dis = 72.69800547470336 pvel = 0.08022154209062408 alw = 1.0 OK\n",
      "op = (50.0, 5.0, 1.0),apos = (90.0, 8.0, -40.0) dis = 57.358521598799946 pvel = 0.1172115154561913 alw = 0.5 OK\n"
     ]
    }
   ],
   "source": [
    "K = ppvkn['K'][0]\n",
    "n = ppvkn['n'][0]\n",
    "cla = 2\n",
    "W = blaptn[blaptn['class']==cla].values[0][2] #blast pattern design\n",
    "print(f'K = {K}, n = {n}, W = {W}')\n",
    "\n",
    "sta = 20\n",
    "print(blacla[blacla['sta']==sta]['class'])\n",
    "cla = blacla[blacla['sta']==sta]['class'].values[0] #blast class along the alignment\n",
    "print(f'cla = {cla}')\n",
    "W = blaptn[blaptn['class']==cla].values[0][2] #blast pattern design\n",
    "print(f'K = {K}, n = {n}, W = {W}')\n",
    "\n",
    "obs = np.array(obstr)\n",
    "\n",
    "obs_allow = obs[:,4]\n",
    "obs_pos = [(obs[i,1],obs[i,2],obs[i,3]) for i in range(len(obs))]\n",
    "print(obs_allow)\n",
    "print(obs_pos)\n",
    "for i,sta in enumerate(algn.Sta[:-1]):\n",
    "    print(f'i = {i}, sta = {sta}')\n",
    "    bc = blacla['class'][i]\n",
    "    W = blaptn[blaptn['class']==bc].values[0][2] #blast pattern design\n",
    "    print(f'sta = {sta},W = {W}')\n",
    "    for op,alw in zip(obs_pos,obs_allow):\n",
    "        apos = algn.get(sta)\n",
    "        dis = math.sqrt((op[0]-apos[0])**2 + (op[1]-apos[1])**2 + (op[2]-apos[2])**2)\n",
    "        pvel = ppv(K,n,W,dis)\n",
    "        print(f'op = {op},apos = {apos} dis = {dis} pvel = {pvel} alw = {alw} {\"OK\" if pvel <= alw else \"NG****\"}')\n"
   ]
  },
  {
   "cell_type": "code",
   "execution_count": null,
   "metadata": {},
   "outputs": [],
   "source": []
  }
 ],
 "metadata": {
  "kernelspec": {
   "display_name": "blast",
   "language": "python",
   "name": "python3"
  },
  "language_info": {
   "codemirror_mode": {
    "name": "ipython",
    "version": 3
   },
   "file_extension": ".py",
   "mimetype": "text/x-python",
   "name": "python",
   "nbconvert_exporter": "python",
   "pygments_lexer": "ipython3",
   "version": "3.12.1"
  }
 },
 "nbformat": 4,
 "nbformat_minor": 2
}
