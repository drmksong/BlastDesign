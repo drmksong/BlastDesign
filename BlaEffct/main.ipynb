{
 "cells": [
  {
   "cell_type": "code",
   "execution_count": 66,
   "metadata": {},
   "outputs": [],
   "source": [
    "import math\n",
    "import numpy as np\n",
    "import pandas as pd\n",
    "import matplotlib.pyplot as plt"
   ]
  },
  {
   "cell_type": "code",
   "execution_count": 67,
   "metadata": {},
   "outputs": [],
   "source": [
    "align = pd.read_csv('alignment.csv')\n",
    "blacla = pd.read_csv('blastclass.csv')\n",
    "blaptn = pd.read_csv('blastpattern.csv')\n",
    "obs = pd.read_csv('obstruction.csv')\n",
    "ppvkn = pd.read_csv('ppv.csv')\n",
    "rockcla = pd.read_csv('rockclass.csv')\n"
   ]
  },
  {
   "cell_type": "code",
   "execution_count": 68,
   "metadata": {},
   "outputs": [
    {
     "name": "stdout",
     "output_type": "stream",
     "text": [
      "    sta   x  y    z\n",
      "0     0   0  0 -1.0\n",
      "1     1   1  0 -1.0\n",
      "2     2   2  0 -1.0\n",
      "3     3   3  0 -1.0\n",
      "4     4   4  0 -1.0\n",
      "5     5   5  0 -0.5\n",
      "6     6   6  0 -0.5\n",
      "7     7   7  0 -0.5\n",
      "8     8   8  0 -0.5\n",
      "9     9   9  0 -1.0\n",
      "10   10  10  0 -1.0 \n",
      "\n",
      "\n"
     ]
    }
   ],
   "source": [
    "print(align,'\\n\\n')\n",
    "# print(blacla,'\\n\\n')\n",
    "# print(blaptn,'\\n\\n')\n",
    "# print(obs,'\\n\\n')\n",
    "# print(ppv,'\\n\\n')\n",
    "# print(rockcla,'\\n\\n')"
   ]
  },
  {
   "cell_type": "code",
   "execution_count": 69,
   "metadata": {},
   "outputs": [],
   "source": [
    "def ppv(K,n,weight=1,distance=1): \n",
    "    sd = distance/math.sqrt(weight)\n",
    "    v = K*math.pow(sd,n)\n",
    "    return v"
   ]
  },
  {
   "cell_type": "code",
   "execution_count": 70,
   "metadata": {},
   "outputs": [
    {
     "name": "stdout",
     "output_type": "stream",
     "text": [
      "K = 200, n = -1.6, W = 2.1\n",
      "ppv of K =200 n =-1.6 W =2.1 & d =1 = 362.08074604716904\n",
      "ppv of K =200 n =-1.6 W =2.1 & d =2 = 119.44210218694774\n",
      "ppv of K =200 n =-1.6 W =2.1 & d =3 = 62.43260035036339\n",
      "ppv of K =200 n =-1.6 W =2.1 & d =4 = 39.40119967875548\n",
      "ppv of K =200 n =-1.6 W =2.1 & d =5 = 27.57105753383508\n",
      "ppv of K =200 n =-1.6 W =2.1 & d =6 = 20.595077513106766\n",
      "ppv of K =200 n =-1.6 W =2.1 & d =7 = 16.093428224441777\n",
      "ppv of K =200 n =-1.6 W =2.1 & d =8 = 12.997548667515069\n",
      "ppv of K =200 n =-1.6 W =2.1 & d =9 = 10.765083835748662\n"
     ]
    }
   ],
   "source": [
    "K = ppvkn['K'][0]\n",
    "n = ppvkn['n'][0]\n",
    "W = blaptn['exp_weight'][0]\n",
    "print(f'K = {K}, n = {n}, W = {W}')\n",
    "for d in range(1,10):\n",
    "    print(f'ppv of K ={K} n ={n} W ={W} & d ={d} = {ppv(K,n,W,d)}')"
   ]
  }
 ],
 "metadata": {
  "kernelspec": {
   "display_name": "blast",
   "language": "python",
   "name": "python3"
  },
  "language_info": {
   "codemirror_mode": {
    "name": "ipython",
    "version": 3
   },
   "file_extension": ".py",
   "mimetype": "text/x-python",
   "name": "python",
   "nbconvert_exporter": "python",
   "pygments_lexer": "ipython3",
   "version": "3.12.1"
  }
 },
 "nbformat": 4,
 "nbformat_minor": 2
}
